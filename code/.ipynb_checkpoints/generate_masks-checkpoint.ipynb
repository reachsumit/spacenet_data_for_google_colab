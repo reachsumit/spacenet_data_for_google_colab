{
 "cells": [
  {
   "cell_type": "code",
   "execution_count": 2,
   "metadata": {},
   "outputs": [],
   "source": [
    "import sys"
   ]
  },
  {
   "cell_type": "code",
   "execution_count": 3,
   "metadata": {},
   "outputs": [],
   "source": [
    "sys.path.append('/media/sumit/DATA/uChicago/Capstone/SpaceNet_Roads_Sample/apls-master/src')"
   ]
  },
  {
   "cell_type": "code",
   "execution_count": 4,
   "metadata": {},
   "outputs": [],
   "source": [
    "import apls_tools as ap"
   ]
  },
  {
   "cell_type": "code",
   "execution_count": 5,
   "metadata": {},
   "outputs": [],
   "source": [
    "import os"
   ]
  },
  {
   "cell_type": "code",
   "execution_count": 6,
   "metadata": {},
   "outputs": [],
   "source": [
    "directory = \"/media/sumit/DATA/uChicago/Capstone/code/inputs\""
   ]
  },
  {
   "cell_type": "code",
   "execution_count": 12,
   "metadata": {},
   "outputs": [
    {
     "name": "stdout",
     "output_type": "stream",
     "text": [
      "/media/sumit/DATA/uChicago/Capstone/code/inputs/PAN_AOI_2_Vegas_img1454.tif /media/sumit/DATA/uChicago/Capstone/code/inputs/PAN_AOI_2_Vegas_img1454.geojson /media/sumit/DATA/uChicago/Capstone/code/masks/PAN_AOI_2_Vegas_img1454.tif\n"
     ]
    }
   ],
   "source": [
    "for filename in os.listdir(directory):\n",
    "    if filename.endswith(\".tif\"): \n",
    "        input_tif_file = os.path.join(directory, filename)\n",
    "        geojson_file = os.path.join(directory, filename[:-4]+\".geojson\")\n",
    "        mask_tif_file = os.path.join(directory[:-6], \"masks\", filename[:-4]+\".tif\")\n",
    "        \n",
    "    else:\n",
    "        continue"
   ]
  },
  {
   "cell_type": "code",
   "execution_count": null,
   "metadata": {},
   "outputs": [],
   "source": []
  }
 ],
 "metadata": {
  "kernelspec": {
   "display_name": "Python [conda env:tensorflow]",
   "language": "python",
   "name": "conda-env-tensorflow-py"
  },
  "language_info": {
   "codemirror_mode": {
    "name": "ipython",
    "version": 3
   },
   "file_extension": ".py",
   "mimetype": "text/x-python",
   "name": "python",
   "nbconvert_exporter": "python",
   "pygments_lexer": "ipython3",
   "version": "3.6.4"
  }
 },
 "nbformat": 4,
 "nbformat_minor": 2
}
